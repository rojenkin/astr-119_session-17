{
 "cells": [
  {
   "cell_type": "markdown",
   "metadata": {},
   "source": [
    "## Create a simple solar system model"
   ]
  },
  {
   "cell_type": "code",
   "execution_count": 48,
   "metadata": {},
   "outputs": [],
   "source": [
    "%matplotlib inline\n",
    "import matplotlib.pyplot as plt\n",
    "import numpy as np\n",
    "from collections import namedtuple"
   ]
  },
  {
   "cell_type": "markdown",
   "metadata": {},
   "source": [
    "### Adding in some style"
   ]
  },
  {
   "cell_type": "code",
   "execution_count": 66,
   "metadata": {},
   "outputs": [],
   "source": [
    "#use colors.subclass(or command; e.g bold).colorname to print\n",
    "#examples: print(colors.bold, colors.fg.blue, \"this will be bold and blue\")\n",
    "#everything after this will have that format until the following command\n",
    "#is given: print(colors.reset, \"now, this text will be normal\")\n",
    "\n",
    "class colors:\n",
    "    reset='\\033[0m' #reset all colors with colors.reset\n",
    "    bold='\\033[01m'\n",
    "    underline='\\033[04m'\n",
    "    strikethrough='\\033[09m'\n",
    "    reverse='\\033[07m'\n",
    "    class fg:  #foreground subclass\n",
    "        black='\\033[30m'\n",
    "        red='\\033[31m'\n",
    "        green='\\033[32m'\n",
    "        orange='\\033[33m'\n",
    "        blue='\\033[34m'\n",
    "        purple='\\033[35m'\n",
    "        cyan='\\033[36m'\n",
    "        lightgrey='\\033[37m'\n",
    "        darkgrey='\\033[90m'\n",
    "        lightred='\\033[91m'\n",
    "        lightgreen='\\033[92m'\n",
    "        yellow='\\033[93m'\n",
    "        lightblue='\\033[94m'\n",
    "        pink='\\033[95m'\n",
    "        lightcyan='\\033[96m'\n",
    "    class bg: #background subclass\n",
    "        black='\\033[40m'\n",
    "        red='\\033[41m'\n",
    "        green='\\033[42m'\n",
    "        orange='\\033[43m'\n",
    "        blue='\\033[44m'\n",
    "        purple='\\033[45m'\n",
    "        cyan='\\033[46m'\n",
    "        lightgrey='\\033[47m'"
   ]
  },
  {
   "cell_type": "markdown",
   "metadata": {},
   "source": [
    "The above code was provided by https://www.geeksforgeeks.org/print-colors-python-terminal/"
   ]
  },
  {
   "cell_type": "markdown",
   "metadata": {},
   "source": [
    "### Define a planet class"
   ]
  },
  {
   "cell_type": "code",
   "execution_count": 49,
   "metadata": {},
   "outputs": [],
   "source": [
    "class planet():\n",
    "    \"A planet in our solar system\"\n",
    "    def __init__(self,semimajor,eccentricity):\n",
    "        self.x     = np.zeros(2)  #x and y position\n",
    "        self.v     = np.zeros(2)  #x and y velocity\n",
    "        self.a_g   = np.zeros(2)  #x and y acceleration\n",
    "        self.t     = 0.0          #current time\n",
    "        self.dt    = 0.0          #current timestep\n",
    "        self.a     = semimajor    #semimajor axis of the orbit\n",
    "        self.e     = eccentricity #eccentricity of the orbit\n",
    "        self.istep = 0            #current integer timestep1\n",
    "        self.name  = \"\"           #name for the planet"
   ]
  },
  {
   "cell_type": "markdown",
   "metadata": {},
   "source": [
    "### Define a dictionary with some constants"
   ]
  },
  {
   "cell_type": "code",
   "execution_count": 50,
   "metadata": {},
   "outputs": [],
   "source": [
    "solar_system = { \"M_sun\":1.0, \"G\":39.4784176043574320} #G = (4*np.pi)**2"
   ]
  },
  {
   "cell_type": "markdown",
   "metadata": {},
   "source": [
    "### Define some functions for setting circular velocity and acceleration"
   ]
  },
  {
   "cell_type": "code",
   "execution_count": 51,
   "metadata": {},
   "outputs": [],
   "source": [
    "def solar_circular_velocity(p):\n",
    "    \n",
    "    G = solar_system[\"G\"]\n",
    "    M = solar_system[\"M_sun\"]\n",
    "    r = (p.x[0]**2 + p.x[1]**2)**0.5\n",
    "    \n",
    "    #return the circular velocity\n",
    "    return(G*M/r)**0.5"
   ]
  },
  {
   "cell_type": "code",
   "execution_count": 52,
   "metadata": {},
   "outputs": [],
   "source": [
    "def solar_gravitational_acceleration(p):\n",
    "    \n",
    "    G = solar_system[\"G\"]\n",
    "    M = solar_system[\"M_sun\"]\n",
    "    r = (p.x[0]**2 + p.x[1]**2)**0.5\n",
    "    \n",
    "    #acceleration in AU/(yr^2)\n",
    "    a_grav = -1.0*G*M/r**2\n",
    "    \n",
    "    #find the angle at this position\n",
    "    if(p.x[0]==0.0):\n",
    "        if(p.x[1]>0.0):\n",
    "            theta = 0.5*np.pi\n",
    "        else:\n",
    "            theta = 1.5*np.pi\n",
    "    else:\n",
    "        theta = np.arctan2(p.x[1],p.x[0]) #arctan p.x[1]/p.x[0]\n",
    "        \n",
    "    #set the x and y components of the velocity\n",
    "    #p.a_g[0] = a_grav * np.cos(theta)\n",
    "    #p.a_g[1] = a_grav * np.sin(theta)\n",
    "    return a_grav*np.cos(theta), a_grav*np.sin(theta)"
   ]
  },
  {
   "cell_type": "markdown",
   "metadata": {},
   "source": [
    "### Compute the timestep"
   ]
  },
  {
   "cell_type": "code",
   "execution_count": 53,
   "metadata": {},
   "outputs": [],
   "source": [
    "def calc_dt(p):\n",
    "    \n",
    "    #integration tolerance\n",
    "    ETA_TIME_STEP = 0.0004\n",
    "    \n",
    "    #compute timestep\n",
    "    eta = ETA_TIME_STEP\n",
    "    v = (p.v[0]**2 + p.v[1]**2)**0.5\n",
    "    a = (p.a_g[0]**2 + p.a_g[1]**2)**0.5\n",
    "    dt = eta * np.fmin(1./np.fabs(v),1./np.fabs(a)**0.5)\n",
    "    \n",
    "    return dt"
   ]
  },
  {
   "cell_type": "markdown",
   "metadata": {},
   "source": [
    "### Define the initial conditions"
   ]
  },
  {
   "cell_type": "code",
   "execution_count": 54,
   "metadata": {},
   "outputs": [],
   "source": [
    "def SetPlanet(p,i):\n",
    "    \n",
    "    AU_in_km = 1.495979e+8 #an AU in km\n",
    "    \n",
    "    #circular velocity\n",
    "    v_c = 0.0    #circular velocity in AU/yr\n",
    "    v_e = 0.0    #velocity at perihelion in AU/yr\n",
    "    \n",
    "    #planety by planet initial conditions\n",
    "    \n",
    "    #Mercury\n",
    "    if(i==0):\n",
    "        #semi-major axis in AU\n",
    "        p.a = 57909227.0/AU_in_km #AU_in_km\n",
    "        \n",
    "        #eccentricity\n",
    "        p.e = 0.20563593\n",
    "        \n",
    "        #name\n",
    "        p.name = \"Mercury\"\n",
    "        \n",
    "    #Venus\n",
    "    elif(i==1):\n",
    "        #semi-major axis in AU\n",
    "        p.a = 108209475.0/AU_in_km #AU_in_km\n",
    "        \n",
    "        #eccentricity\n",
    "        p.e = 0.00677672\n",
    "        \n",
    "        #name\n",
    "        p.name = \"Venus\"\n",
    "        \n",
    "    #Earth\n",
    "    elif(i==2):\n",
    "        #semi-major axis in AU\n",
    "        p.a = 1.0\n",
    "        \n",
    "        #eccentricity\n",
    "        p.e = 0.01671123\n",
    "        \n",
    "        #name\n",
    "        p.name = \"Earth\"\n",
    "        \n",
    "    #set remaining properties\n",
    "    p.t    = 0.0\n",
    "    p.x[0] = p.a*(1.0-p.e)\n",
    "    p.x[1] = 0.0\n",
    "    \n",
    "    #get equiv circular velocity\n",
    "    v_c = solar_circular_velocity(p)\n",
    "    \n",
    "    #velocity at perihelion\n",
    "    v_e = v_c*(1 + p.e)**0.5\n",
    "    \n",
    "    #set velocity\n",
    "    p.v[0] = 0.0   #no x velocity at perihelion\n",
    "    p.v[1] = v_e   #y velocity at perihelion (CCW)\n",
    "    \n",
    "    #calculate gravitational acceleration from sun\n",
    "    p.a_g = solar_gravitational_acceleration(p)\n",
    "    \n",
    "    #set timestep\n",
    "    p.dt = calc_dt(p)"
   ]
  },
  {
   "cell_type": "markdown",
   "metadata": {},
   "source": [
    "### Write leapfrog integrator"
   ]
  },
  {
   "cell_type": "code",
   "execution_count": 55,
   "metadata": {},
   "outputs": [],
   "source": [
    "def x_first_step(x_i,v_i,a_i,dt):\n",
    "    #x_1/2 = x_0 + 1/2 v_0 Delta_t + 1/4 a_0 Delta t^2\n",
    "    return x_i + 0.5*v_i*dt + 0.25*a_i*dt**2"
   ]
  },
  {
   "cell_type": "code",
   "execution_count": 56,
   "metadata": {},
   "outputs": [],
   "source": [
    "def v_full_step(v_i,a_ipoh,dt):\n",
    "    #v_i+1 = v_i + a_i+1/2 Delta t\n",
    "    #ipoh means i plus one half\n",
    "    return v_i + a_ipoh*dt"
   ]
  },
  {
   "cell_type": "code",
   "execution_count": 57,
   "metadata": {},
   "outputs": [],
   "source": [
    "def x_full_step(x_ipoh,v_ip1,a_ipoh,dt):\n",
    "    #x_3/2 = x_1/2 + v_i+1 Delta t\n",
    "    return x_ipoh + v_ip1*dt"
   ]
  },
  {
   "cell_type": "markdown",
   "metadata": {},
   "source": [
    "### Write a function to save the data to file"
   ]
  },
  {
   "cell_type": "code",
   "execution_count": 58,
   "metadata": {},
   "outputs": [],
   "source": [
    "def save_solar_system(p,n_planets,t,dt,istep,ndim):\n",
    "    \n",
    "    #loop over the number of planets\n",
    "    for i in range(n_planets):\n",
    "        \n",
    "        #define a filename\n",
    "        fname = \"planet.%s.txt\" % p[i].name\n",
    "        \n",
    "        if(istep==0):\n",
    "            #create the file on the first timestep\n",
    "            fp = open(fname,\"w\")\n",
    "        else:\n",
    "            #append the file on subsequent timesteps\n",
    "            fp = open(fname,\"a\")\n",
    "            \n",
    "        #compute the drifted properties of the planet\n",
    "        v_drift = np.zeros(ndim)\n",
    "        \n",
    "        for k in range(ndim):\n",
    "            v_drift[k] = p[i].v[k] + 0.5*p[i].a_g[k]*p[i].dt\n",
    "            \n",
    "        #write the data to file\n",
    "        #6d-six digit, \\t-tab, 6.5f-is floating with 5 after dec, the space allows for minus sign keeping \n",
    "        #columns in order, \\n is for new line, \n",
    "        s = \"%6d\\t%6.5f\\t%6.5f\\t%6d\\t%6.5f\\t%6.5f\\t% 6.5f\\t% 6.5f\\t% 6.5f\\t% 6.5f\\t% 6.5f\\t% 6.5f\\n\" % \\\n",
    "            (istep,t,dt,p[i].istep,p[i].t,p[i].dt,p[i].x[0],p[i].x[1],v_drift[0],v_drift[1],p[i].a_g[0],p[i].a_g[1])\n",
    "        \n",
    "        fp.write(s)\n",
    "        \n",
    "        \n",
    "        #close the file\n",
    "        fp.close()"
   ]
  },
  {
   "cell_type": "markdown",
   "metadata": {},
   "source": [
    "### Write a function to evolve the solar system"
   ]
  },
  {
   "cell_type": "code",
   "execution_count": 59,
   "metadata": {},
   "outputs": [],
   "source": [
    "def evolve_solar_system(p,n_planets,t_max):\n",
    "    \n",
    "    #number of spatial dimensions\n",
    "    ndim = 2\n",
    "    \n",
    "    #define the first timestep\n",
    "    dt = 0.55/365.25\n",
    "    \n",
    "    #define the starting time\n",
    "    t = 0.0\n",
    "    \n",
    "    #define the starting timestep\n",
    "    istep = 0\n",
    "    \n",
    "    #save the initial conditions\n",
    "    save_solar_system(p,n_planets,t,dt,istep,ndim)\n",
    "    \n",
    "    #begin a loop over the global timescale\n",
    "    while(t<t_max):\n",
    "        \n",
    "        #check to see if the next step exceeds the max time;\n",
    "        #if so, take a smaller step\n",
    "        if(t+dt>t_max):\n",
    "            dt = t_max - t #limit the step to align with t_max\n",
    "            \n",
    "        #evolve each planet\n",
    "        for i in range(n_planets):\n",
    "            \n",
    "            while(p[i].t<t+dt):\n",
    "                \n",
    "                #special case for istep==0\n",
    "                if(p[i].istep==0):\n",
    "                    \n",
    "                    #take the first step according to a verlet scheme\n",
    "                    for k in range(ndim):\n",
    "                        p[i].x[k] = x_first_step(p[i].x[k],p[i].v[k],p[i].a_g[k],p[i].dt)\n",
    "                        \n",
    "                    #update the acceleration\n",
    "                    p[i].a_g = solar_gravitational_acceleration(p[i])\n",
    "                    \n",
    "                    #update the time by 1/2dt\n",
    "                    p[i].t += 0.5*p[i].dt\n",
    "                    \n",
    "                    #update the timestep\n",
    "                    p[i].dt = calc_dt(p[i])\n",
    "                    \n",
    "                #continue with a normal step\n",
    "                \n",
    "                #limit to align with the global timestep\n",
    "                if(p[i].t + p[i].dt > t+dt):\n",
    "                    p[i].dt = t+dt-p[i].t\n",
    "                    \n",
    "                #evolve the velocity\n",
    "                for k in range(ndim):\n",
    "                    p[i].v[k] = v_full_step(p[i].v[k],p[i].a_g[k],p[i].dt)\n",
    "                    \n",
    "                #evolve the position\n",
    "                for k in range(ndim):\n",
    "                    p[i].x[k] = x_full_step(p[i].x[k],p[i].v[k],p[i].a_g[k],p[i].dt)\n",
    "                    \n",
    "                #update the acceleration\n",
    "                p[i].a_g = solar_gravitational_acceleration(p[i])\n",
    "                \n",
    "                #update by dt\n",
    "                p[i].t += p[i].dt\n",
    "                \n",
    "                #compute the new timestep\n",
    "                p[i].dt = calc_dt(p[i])\n",
    "                \n",
    "                #update the planet's timestep\n",
    "                p[i].istep+=1\n",
    "                \n",
    "            #now update the global system time\n",
    "            t+=dt\n",
    "            \n",
    "            #update the global step number\n",
    "            istep += 1\n",
    "            \n",
    "            #output the current state\n",
    "            save_solar_system(p,n_planets,t,dt,istep,ndim)\n",
    "            \n",
    "    #print the final steps and time\n",
    "    print(\"Time t = \",t)\n",
    "    print(\"Maximum t = \",t_max)\n",
    "    print(\"Maximum number of steps = \",istep)\n",
    "    \n",
    "    #end of evolution"
   ]
  },
  {
   "cell_type": "markdown",
   "metadata": {},
   "source": [
    "### Create a routine to read in the data"
   ]
  },
  {
   "cell_type": "code",
   "execution_count": 60,
   "metadata": {},
   "outputs": [],
   "source": [
    "def read_twelve_arrays(fname):\n",
    "    fp = open(fname,\"r\")\n",
    "    fl = fp.readlines()\n",
    "    n  = len(fl)\n",
    "    a  = np.zeros(n)\n",
    "    b  = np.zeros(n)\n",
    "    c  = np.zeros(n)\n",
    "    d  = np.zeros(n)\n",
    "    f  = np.zeros(n)\n",
    "    g  = np.zeros(n)\n",
    "    h  = np.zeros(n)\n",
    "    j  = np.zeros(n)\n",
    "    k  = np.zeros(n)\n",
    "    l  = np.zeros(n)\n",
    "    m  = np.zeros(n)\n",
    "    p  = np.zeros(n)\n",
    "    for i in range(n):\n",
    "        a[i] = float(fl[i].split()[0])\n",
    "        b[i] = float(fl[i].split()[1])\n",
    "        c[i] = float(fl[i].split()[2])\n",
    "        d[i] = float(fl[i].split()[3])\n",
    "        f[i] = float(fl[i].split()[4])\n",
    "        g[i] = float(fl[i].split()[5])\n",
    "        h[i] = float(fl[i].split()[6])\n",
    "        j[i] = float(fl[i].split()[7])\n",
    "        k[i] = float(fl[i].split()[8])\n",
    "        l[i] = float(fl[i].split()[9])\n",
    "        m[i] = float(fl[i].split()[10])\n",
    "        p[i] = float(fl[i].split()[11])\n",
    "        \n",
    "    return a,b,c,d,f,g,h,j,k,l,m,p"
   ]
  },
  {
   "cell_type": "markdown",
   "metadata": {},
   "source": [
    "### Perform the integration of the solar system"
   ]
  },
  {
   "cell_type": "code",
   "execution_count": 61,
   "metadata": {},
   "outputs": [
    {
     "name": "stdout",
     "output_type": "stream",
     "text": [
      "Time t =  2.0012320328541824\n",
      "Maximum t =  2.0\n",
      "Maximum number of steps =  1329\n"
     ]
    }
   ],
   "source": [
    "#set the number of planets\n",
    "n_planets = 3\n",
    "\n",
    "#set the maximum time of the simulation\n",
    "t_max = 2.0\n",
    "\n",
    "#create empty list of planets\n",
    "p = []\n",
    "\n",
    "#set the planets\n",
    "for i in range(n_planets):\n",
    "    \n",
    "    #create an empty planet\n",
    "    ptmp = planet(0.0,0.0)\n",
    "    \n",
    "    #set the planet properties\n",
    "    SetPlanet(ptmp,i)\n",
    "    \n",
    "    #remember the planet\n",
    "    p.append(ptmp)\n",
    "    \n",
    "#evolve the solar system\n",
    "evolve_solar_system(p,n_planets,t_max)"
   ]
  },
  {
   "cell_type": "markdown",
   "metadata": {},
   "source": [
    "### Read the data back in for every planet"
   ]
  },
  {
   "cell_type": "code",
   "execution_count": 62,
   "metadata": {},
   "outputs": [],
   "source": [
    "fname = \"planet.Mercury.txt\"\n",
    "istepMg,tMg,dtMg,istepM,tM,dtM,xM,yM,vxM,vyM,axM,ayM = read_twelve_arrays(fname)"
   ]
  },
  {
   "cell_type": "code",
   "execution_count": 63,
   "metadata": {},
   "outputs": [],
   "source": [
    "fname = \"planet.Earth.txt\"\n",
    "istepEg,tEg,dtEg,istepE,tE,dtE,xE,yE,vxE,vyE,axE,ayE = read_twelve_arrays(fname)"
   ]
  },
  {
   "cell_type": "code",
   "execution_count": 64,
   "metadata": {},
   "outputs": [],
   "source": [
    "fname = \"planet.Venus.txt\"\n",
    "istepVg,tVg,dtVg,istepV,tV,dtV,xV,yV,vxV,vyV,axV,ayV = read_twelve_arrays(fname)"
   ]
  },
  {
   "cell_type": "markdown",
   "metadata": {},
   "source": [
    "### Plot the data"
   ]
  },
  {
   "cell_type": "code",
   "execution_count": 78,
   "metadata": {},
   "outputs": [
    {
     "name": "stderr",
     "output_type": "stream",
     "text": [
      "/Library/Frameworks/Python.framework/Versions/3.6/lib/python3.6/site-packages/matplotlib/figure.py:98: MatplotlibDeprecationWarning: \n",
      "Adding an axes using the same arguments as a previous axes currently reuses the earlier instance.  In a future version, a new instance will always be created and returned.  Meanwhile, this warning can be suppressed, and the future behavior ensured, by passing a unique label to each axes instance.\n",
      "  \"Adding an axes using the same arguments as a previous axes \"\n"
     ]
    },
    {
     "data": {
      "text/plain": [
       "<matplotlib.legend.Legend at 0x122fdfac8>"
      ]
     },
     "execution_count": 78,
     "metadata": {},
     "output_type": "execute_result"
    },
    {
     "data": {
      "image/png": "[encoded data removed]",
      "text/plain": [
       "<Figure size 504x504 with 1 Axes>"
      ]
     },
     "metadata": {
      "needs_background": "light"
     },
     "output_type": "display_data"
    }
   ],
   "source": [
    "fig = plt.figure(figsize=(7,7))\n",
    "\n",
    "xSun = [0.0]\n",
    "ySun = [0.0]\n",
    "plt.plot(xSun,ySun,'o',color=\"0.5\",label=\"Sun\")\n",
    "\n",
    "plt.plot(xM,yM,color=\"pink\")\n",
    "plt.plot(xM[-1],yM[-1],'o',color=\"red\",label=\"Mercury\")\n",
    "\n",
    "plt.plot(xV,yV,color=\"lime\")\n",
    "plt.plot(xV[-1],yV[-1],'o',color=\"green\",label=\"Venus\")\n",
    "\n",
    "plt.plot(xE,yE,color=\"c\")\n",
    "plt.plot(xE[-1],yE[-1],'o',color=\"blue\",label=\"Earth\")\n",
    "\n",
    "\n",
    "\n",
    "plt.xlim([-1.25,1.25])\n",
    "plt.ylim([-1.25,1.25])\n",
    "plt.xlabel('x [AU]',color=\"chocolate\",fontsize='large')\n",
    "plt.ylabel('y [AU]',color=\"chocolate\",fontsize='large')\n",
    "plt.axes().set_aspect('equal')\n",
    "plt.legend(frameon=False,loc=2)"
   ]
  },
  {
   "cell_type": "code",
   "execution_count": null,
   "metadata": {},
   "outputs": [],
   "source": []
  }
 ],
 "metadata": {
  "kernelspec": {
   "display_name": "Python 3",
   "language": "python",
   "name": "python3"
  },
  "language_info": {
   "codemirror_mode": {
    "name": "ipython",
    "version": 3
   },
   "file_extension": ".py",
   "mimetype": "text/x-python",
   "name": "python",
   "nbconvert_exporter": "python",
   "pygments_lexer": "ipython3",
   "version": "3.6.5"
  }
 },
 "nbformat": 4,
 "nbformat_minor": 2
}
